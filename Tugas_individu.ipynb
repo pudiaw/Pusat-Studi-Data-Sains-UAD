{
  "nbformat": 4,
  "nbformat_minor": 0,
  "metadata": {
    "colab": {
      "name": "Tugas individu.ipynb",
      "provenance": [],
      "collapsed_sections": [
        "JzS--_Ch__bj",
        "BHa8HeRVAFtk",
        "-w57QEPTAN9M"
      ],
      "include_colab_link": true
    },
    "kernelspec": {
      "name": "python3",
      "display_name": "Python 3"
    }
  },
  "cells": [
    {
      "cell_type": "markdown",
      "metadata": {
        "id": "view-in-github",
        "colab_type": "text"
      },
      "source": [
        "<a href=\"https://colab.research.google.com/github/pudiaw/Pusat-Studi-Data-Sains-UAD/blob/main/Tugas_individu.ipynb\" target=\"_parent\"><img src=\"https://colab.research.google.com/assets/colab-badge.svg\" alt=\"Open In Colab\"/></a>"
      ]
    },
    {
      "cell_type": "markdown",
      "metadata": {
        "id": "Me_Lo_eJ_XNG"
      },
      "source": [
        "# Individual Project PSDS Matematika UAD"
      ]
    },
    {
      "cell_type": "markdown",
      "metadata": {
        "id": "1gNDfiHd_hcO"
      },
      "source": [
        "Kolom 1 | Kolom 2 \n",
        "--------|---------\n",
        "Nama    | Pudi Anang Winarkoro\n",
        "NIM     | 1800015079\n",
        "Semester| 5\n"
      ]
    },
    {
      "cell_type": "markdown",
      "metadata": {
        "id": "JzS--_Ch__bj"
      },
      "source": [
        "## 1.\tSub Materi : Fungsi pada Python"
      ]
    },
    {
      "cell_type": "code",
      "metadata": {
        "id": "l6aA5o1JD32e",
        "colab": {
          "base_uri": "https://localhost:8080/"
        },
        "outputId": "9916fa41-9ebf-43b2-bfdc-a37c3c795a7e"
      },
      "source": [
        "#mencari luas segitiga\n",
        "def perkalian(x,y=None): #x=sisi miring, y=alas\n",
        "  if (y==None):\n",
        "      return ((x**2)*(3**(1/2)))/4\n",
        "  else:\n",
        "      return y*(((x**2)-(y/2)**2)**(1/2))/2\n",
        "  \n",
        "print(perkalian(2))\n",
        "print(perkalian(2, 4))"
      ],
      "execution_count": null,
      "outputs": [
        {
          "output_type": "stream",
          "text": [
            "1.7320508075688772\n",
            "0.0\n"
          ],
          "name": "stdout"
        }
      ]
    },
    {
      "cell_type": "markdown",
      "metadata": {
        "id": "BHa8HeRVAFtk"
      },
      "source": [
        "## 2.\tSub Materi: Input Output dan Percabangan"
      ]
    },
    {
      "cell_type": "code",
      "metadata": {
        "id": "FOOolFLzAMDj",
        "colab": {
          "base_uri": "https://localhost:8080/"
        },
        "outputId": "ffe708bd-306d-4a16-adfe-9f19e82984b5"
      },
      "source": [
        "#mencari luas dan keliling segitiga\n",
        "import math\n",
        "print('Pilihan :')\n",
        "print('1. Diketahui 2 sudut dan 1 sisi')\n",
        "print('2. Diketahui 2 sisi dan 1 sudut')\n",
        "print('3. Diketahui 3 buah sisi')\n",
        "print('4. Diketahui 1 sisi dan 1 tinggi segitiga')\n",
        "pilih=input('Pilih :')\n",
        " \n",
        "if pilih =='1':\n",
        "    a=float(input(\"masukkan sudut 1 :\"))\n",
        "    b=float(input(\"masukkan sudut 2 :\"))\n",
        "    A=float(input(\"masukkan panjang sisi diantara sudut 1 dan sudut 2 :\"))\n",
        "    L=((A**2)*math.sin(math.radians(a))*math.sin(math.radians(b)))/(2*math.sin(math.radians(180-(a+b))))\n",
        "    B=(math.sin(math.radians(a))/math.sin(math.radians(180-(a+b))))*A\n",
        "    C=(math.sin(math.radians(b)))/math.sin(math.radians(180-(a+b)))*B\n",
        "    K=A+B+C\n",
        "    print(\"Luas_Segitiga :\",L)\n",
        "    print(\"Sisi B :\",B)\n",
        "    print(\"Sisi C :\",C)\n",
        "    print(\"Keliling :\",K)\n",
        "elif pilih =='2':\n",
        "    a=float(input(\"masukkan sisi 1 :\"))\n",
        "    b=float(input(\"masukkan sisi 2 :\"))\n",
        "    C=float(input(\"masukkan sudut yang diapit oleh sisi 1 dan 2 :\"))\n",
        "    L=a*b*(math.sin(math.radians(C)))/2\n",
        "    K=((a**2)+(b**2)-(2*a*b*math.sin(math.radians(C))))**(1/2)\n",
        "    print(\"Luas_Segitiga :\",L)\n",
        "    print(\"Keliling :\",K)\n",
        "elif pilih =='3':\n",
        "    a=float(input(\"masukkan sisi 1 :\"))\n",
        "    b=float(input(\"masukkan sisi 2 :\"))\n",
        "    c=float(input(\"masukkan sisi 3 :\"))\n",
        "    K=a+b+c\n",
        "    s=K/2\n",
        "    L=(s*(s-a)*(s-b)*(s-c))**(1/2)\n",
        "    print(\"Luas_Segitiga :\",L)\n",
        "    print(\"Keliling :\",K)\n",
        "elif pilih =='4':\n",
        "    a=float(input(\"masukkan sisi alas :\"))\n",
        "    t=float(input(\"masukkan tinggi :\"))\n",
        "    L=a*t/2\n",
        "    print(\"Luas_Segitiga :\",L)\n",
        "else:\n",
        "    print(\"Maaf anda salah ketik\")"
      ],
      "execution_count": null,
      "outputs": [
        {
          "output_type": "stream",
          "text": [
            "Pilihan :\n",
            "1. Diketahui 2 sudut dan 1 sisi\n",
            "2. Diketahui 2 sisi dan 1 sudut\n",
            "3. Diketahui 3 buah sisi\n",
            "4. Diketahui 1 sisi dan 1 tinggi segitiga\n",
            "Pilih :1\n",
            "masukkan sudut 1 :60\n",
            "masukkan sudut 2 :60\n",
            "masukkan panjang sisi diantara sudut 1 dan sudut 2 :8\n",
            "Luas_Segitiga : 27.712812921102035\n",
            "Sisi B : 8.0\n",
            "Sisi C : 8.0\n",
            "Keliling : 24.0\n"
          ],
          "name": "stdout"
        }
      ]
    },
    {
      "cell_type": "markdown",
      "metadata": {
        "id": "-w57QEPTAN9M"
      },
      "source": [
        "##3.\tSub Materi: Matriks dan Perulangan"
      ]
    },
    {
      "cell_type": "code",
      "metadata": {
        "id": "3XadaLfNAVX6",
        "colab": {
          "base_uri": "https://localhost:8080/"
        },
        "outputId": "2161d6a4-3477-45c7-8272-998e9d0be3eb"
      },
      "source": [
        "n= int(input(\"enter your number : \"))\n",
        "value=n\n",
        "size= n\n",
        " \n",
        "a=[[0 for i in range (size)]for j in range(size)]\n",
        " \n",
        "#memasukan value\n",
        " \n",
        "for j in range(size):\n",
        "    #Horizontal Left\n",
        "    a[j][0]=(size*4-3)-j\n",
        "    #vertikal upper\n",
        "    a[0][j]=j+1\n",
        "    #horizontal Right\n",
        "    a[j][size-1]=(size)+j\n",
        "    #vertikal lower\n",
        "    a[size-1][j]=(size*3-2)-j\n",
        "   \n",
        " \n",
        " \n",
        "for i in range(size):\n",
        "  for j in range(size):\n",
        "    print(a[i][j],end=\"  \")\n",
        "  print()"
      ],
      "execution_count": null,
      "outputs": [
        {
          "output_type": "stream",
          "text": [
            "enter your number : 3\n",
            "1  2  3  \n",
            "8  0  4  \n",
            "7  6  5  \n"
          ],
          "name": "stdout"
        }
      ]
    }
  ]
}