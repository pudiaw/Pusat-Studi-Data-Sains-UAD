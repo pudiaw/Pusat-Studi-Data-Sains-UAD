{
  "nbformat": 4,
  "nbformat_minor": 0,
  "metadata": {
    "colab": {
      "name": "Salinan dari Modul 2C - Tuple dan Set pada Python",
      "provenance": [],
      "collapsed_sections": [],
      "include_colab_link": true
    },
    "kernelspec": {
      "name": "python3",
      "display_name": "Python 3"
    }
  },
  "cells": [
    {
      "cell_type": "markdown",
      "metadata": {
        "id": "view-in-github",
        "colab_type": "text"
      },
      "source": [
        "<a href=\"https://colab.research.google.com/github/pudiaw/Pusat-Studi-Data-Sains-UAD/blob/main/Salinan_dari_Modul_2C_Tuple_dan_Set_pada_Python.ipynb\" target=\"_parent\"><img src=\"https://colab.research.google.com/assets/colab-badge.svg\" alt=\"Open In Colab\"/></a>"
      ]
    },
    {
      "cell_type": "markdown",
      "metadata": {
        "id": "CJAVE2iD5kmH"
      },
      "source": [
        "![alt text](https://drive.google.com/uc?id=1uGyEsqVfv95YMvDH_xeA9yLUZ1n0i34G\n",
        ")"
      ]
    },
    {
      "cell_type": "markdown",
      "metadata": {
        "id": "ZQVQXJqGNmSm"
      },
      "source": [
        "Assalamualaikum warahmatullahi wabarakatuh.\n",
        "\n",
        "***Robbi Zidni Ilma Warzuqni Fahma***\n",
        "\n",
        "Semoga Allah memberi kemudahan untuk kita memperoleh ilmu yang bermanfaat.\n",
        "\n",
        "Hallo sahabat data\n",
        "\n",
        "Ini adalah notebook yang disusun untuk program **Pejuang Data Sains 1.0** .\n",
        "\n",
        "Ini adalah **Modul 2C - Set & Tuple Pada Python**:\n",
        "\n",
        "## **Hasil Yang Ingin Dicapai**\n",
        "1. Memahami Tuple Pada Python\n",
        "2. Memahami Set Pada Python\n",
        "3. Mengenal dan memahami method-method pada Tuple Python\n",
        "4. Mengenal dan memahami method-method pada Set Python\n",
        "\n",
        "### ***!!!***\n",
        "\n",
        "***Sebelum memulai mempelajari notebook ini, jangan lupa untuk menyalinnya di drive masing-masing ya.***\n",
        "\n",
        "### ***!!!***\n"
      ]
    },
    {
      "cell_type": "markdown",
      "metadata": {
        "id": "bIZ1iVbz3eYK"
      },
      "source": [
        "# **Tuple**"
      ]
    },
    {
      "cell_type": "markdown",
      "metadata": {
        "id": "pjnk287j311K"
      },
      "source": [
        "## Tuple pada Python"
      ]
    },
    {
      "cell_type": "markdown",
      "metadata": {
        "id": "sKPSVbHe3j_0"
      },
      "source": [
        "Tuple dalam Python adalah stuktur data yang digunakan untuk menyimpan sekumpulan data. Tuple bersifat immutable, artinya isi tuple tidak bisa kita ubah dan hapus. Tuple didefinisikan dengan kurung dan elemen yang dipisahkan dengan koma."
      ]
    },
    {
      "cell_type": "code",
      "metadata": {
        "id": "Ib3Ry3jf4PPU",
        "colab": {
          "base_uri": "https://localhost:8080/"
        },
        "outputId": "351e1e43-9f63-44d0-d866-898395c2582f"
      },
      "source": [
        "#Contoh Tuple\n",
        "tuple1 = ('matematika', 'UAD', 2021)\n",
        "tuple1"
      ],
      "execution_count": 1,
      "outputs": [
        {
          "output_type": "execute_result",
          "data": {
            "text/plain": [
              "('matematika', 'UAD', 2021)"
            ]
          },
          "metadata": {
            "tags": []
          },
          "execution_count": 1
        }
      ]
    },
    {
      "cell_type": "code",
      "metadata": {
        "id": "FKm4w-b_-y-b"
      },
      "source": [
        "#sekarang giliran kamu mencoba\n",
        "\n",
        "\n",
        "\n",
        "\n"
      ],
      "execution_count": null,
      "outputs": []
    },
    {
      "cell_type": "markdown",
      "metadata": {
        "id": "8ijOF7MC3qaY"
      },
      "source": [
        "### Akses Nilai dalam tuple set\n",
        "Untuk mengakses nilai dalam tuple, gunakan tanda kurung siku untuk mendapatkan nilai yang tersedia pada indeks tersebut.    \n",
        "\n"
      ]
    },
    {
      "cell_type": "code",
      "metadata": {
        "id": "5MG3sPbi8muy",
        "colab": {
          "base_uri": "https://localhost:8080/"
        },
        "outputId": "498602f4-89d7-4088-9eba-44ed239b0228"
      },
      "source": [
        "#contoh\n",
        "print(tuple1[1])\n",
        "print(tuple1[-1])"
      ],
      "execution_count": 2,
      "outputs": [
        {
          "output_type": "stream",
          "text": [
            "UAD\n",
            "2021\n"
          ],
          "name": "stdout"
        }
      ]
    },
    {
      "cell_type": "code",
      "metadata": {
        "id": "H534pMnQ9ldu",
        "colab": {
          "base_uri": "https://localhost:8080/"
        },
        "outputId": "8730a835-2de9-4a19-9d79-ebb7e3cd8a96"
      },
      "source": [
        "print(tuple1[0:2])"
      ],
      "execution_count": 3,
      "outputs": [
        {
          "output_type": "stream",
          "text": [
            "('matematika', 'UAD')\n"
          ],
          "name": "stdout"
        }
      ]
    },
    {
      "cell_type": "code",
      "metadata": {
        "id": "w21FezbB-9Uq"
      },
      "source": [
        "#sekarang giliran kamu mencoba\n",
        "\n",
        "\n"
      ],
      "execution_count": null,
      "outputs": []
    },
    {
      "cell_type": "markdown",
      "metadata": {
        "id": "cU1VsnqEJfbf"
      },
      "source": [
        "### Merubah Elemen Bagian Tuple"
      ]
    },
    {
      "cell_type": "code",
      "metadata": {
        "id": "PLpIvGN6-Lpc",
        "colab": {
          "base_uri": "https://localhost:8080/",
          "height": 135
        },
        "outputId": "117795d9-92cd-4a18-dc4c-14fe0ec2aea7"
      },
      "source": [
        "print(tuple1[1]=10) "
      ],
      "execution_count": 4,
      "outputs": [
        {
          "output_type": "error",
          "ename": "SyntaxError",
          "evalue": "ignored",
          "traceback": [
            "\u001b[0;36m  File \u001b[0;32m\"<ipython-input-4-7d9246c2ded1>\"\u001b[0;36m, line \u001b[0;32m1\u001b[0m\n\u001b[0;31m    print(tuple1[1]=10)\u001b[0m\n\u001b[0m         ^\u001b[0m\n\u001b[0;31mSyntaxError\u001b[0m\u001b[0;31m:\u001b[0m keyword can't be an expression\n"
          ]
        }
      ]
    },
    {
      "cell_type": "markdown",
      "metadata": {
        "id": "5_jH2oWM-dgr"
      },
      "source": [
        "MENGAPA ERROR ?\n",
        "ini dikarenakan tuple bersifat immutable, artinya isi dari tuple tidak bisa kita ubah dan tidak bisa dihapus."
      ]
    },
    {
      "cell_type": "markdown",
      "metadata": {
        "id": "1jsqVSkTDDWr"
      },
      "source": [
        "### Mengetahui panjang elemen tuple\n",
        "dengan meggunakan len()\n",
        "\n"
      ]
    },
    {
      "cell_type": "code",
      "metadata": {
        "id": "THFwKhaUCvbv",
        "colab": {
          "base_uri": "https://localhost:8080/"
        },
        "outputId": "304a921a-df9c-43d0-d902-14af57423916"
      },
      "source": [
        "print(len(tuple1))"
      ],
      "execution_count": 5,
      "outputs": [
        {
          "output_type": "stream",
          "text": [
            "3\n"
          ],
          "name": "stdout"
        }
      ]
    },
    {
      "cell_type": "code",
      "metadata": {
        "id": "d2qc5YkP_HTY"
      },
      "source": [
        "#sekarang giliran kamu mencoba\n",
        "\n",
        "\n"
      ],
      "execution_count": null,
      "outputs": []
    },
    {
      "cell_type": "markdown",
      "metadata": {
        "id": "TBYPCJgYIRDx"
      },
      "source": [
        "# **Set**\n",
        "\n"
      ]
    },
    {
      "cell_type": "markdown",
      "metadata": {
        "id": "xisXmNGk7Ffi"
      },
      "source": [
        "## Set pada Python\n",
        "\n",
        "Set adalah kumpulan item bersifat unik dan tanpa urutan (unordered collection). Didefinisikan dengan kurawal dan elemennya dipisahkan dengan koma. Pada Set kita dapat melakukan union dan intersection, sekaligus otomatis melakukan penghapusan data duplikat."
      ]
    },
    {
      "cell_type": "code",
      "metadata": {
        "id": "NnsT0LKsIVJQ",
        "colab": {
          "base_uri": "https://localhost:8080/"
        },
        "outputId": "5cb1b7cb-9000-447d-91fc-2beecb93d0fb"
      },
      "source": [
        "#contoh\n",
        "B={'kijang', 'aku', 'bintang'} #string\n",
        "print(B)\n",
        "\n",
        "\n",
        "#contoh\n",
        "C = {7,1,9,5} #integer\n",
        "print(C)"
      ],
      "execution_count": 7,
      "outputs": [
        {
          "output_type": "stream",
          "text": [
            "{'kijang', 'aku', 'bintang'}\n",
            "{1, 5, 9, 7}\n"
          ],
          "name": "stdout"
        }
      ]
    },
    {
      "cell_type": "code",
      "metadata": {
        "id": "s7577Zkg_V3t"
      },
      "source": [
        "#sekarang giliran kamu mencoba\n",
        "\n",
        "\n",
        "\n",
        "\n"
      ],
      "execution_count": null,
      "outputs": []
    },
    {
      "cell_type": "markdown",
      "metadata": {
        "id": "GD3pQeGmIaxo"
      },
      "source": [
        "### Merubah Elemen Bagian Set.\n",
        "Pada set tidak dapat dilakukan perubahan pada indeks elemennya, tetapi dapat ditambah."
      ]
    },
    {
      "cell_type": "code",
      "metadata": {
        "id": "I5V4CCs8IqLu",
        "colab": {
          "base_uri": "https://localhost:8080/"
        },
        "outputId": "2bf9ed90-997e-47d4-f674-703c1c993bfa"
      },
      "source": [
        "#contoh\n",
        "buah = {\"apple\", \"banana\", \"cherry\"}\n",
        "\n",
        "buah.add(\"blue\")\n",
        "\n",
        "print(buah)"
      ],
      "execution_count": 8,
      "outputs": [
        {
          "output_type": "stream",
          "text": [
            "{'cherry', 'banana', 'blue', 'apple'}\n"
          ],
          "name": "stdout"
        }
      ]
    },
    {
      "cell_type": "code",
      "metadata": {
        "id": "y98Va-JW_OOn"
      },
      "source": [
        "#sekarang giliran kamu mencoba\n",
        "\n",
        "\n",
        "\n"
      ],
      "execution_count": null,
      "outputs": []
    },
    {
      "cell_type": "markdown",
      "metadata": {
        "id": "9GIL9z1GI0hS"
      },
      "source": [
        "Jika ingin menambahkan banyak anggota lagi, maka ditambahkan dengan .update"
      ]
    },
    {
      "cell_type": "code",
      "metadata": {
        "id": "4aL0_HkeI3W8",
        "colab": {
          "base_uri": "https://localhost:8080/"
        },
        "outputId": "3dc3e767-46d8-4b9e-ef14-c2c0495df001"
      },
      "source": [
        "#contoh\n",
        "Binatang = {'kijang', 'domba', 'kambing', 'ayam', 'burung',}\n",
        "Binatang.update(['harimau', 'kucing', 'sapi', 'ikan'])\n",
        "print(Binatang)"
      ],
      "execution_count": 9,
      "outputs": [
        {
          "output_type": "stream",
          "text": [
            "{'sapi', 'ikan', 'ayam', 'kambing', 'kijang', 'domba', 'burung', 'kucing', 'harimau'}\n"
          ],
          "name": "stdout"
        }
      ]
    },
    {
      "cell_type": "code",
      "metadata": {
        "id": "zKu_9rmd_gOq"
      },
      "source": [
        "#sekarang giliran kamu mencoba\n",
        "\n",
        "\n",
        "\n"
      ],
      "execution_count": null,
      "outputs": []
    },
    {
      "cell_type": "markdown",
      "metadata": {
        "id": "BRsrp5C3I-Vp"
      },
      "source": [
        "### Menghapus satu anggota set\n",
        "Menghapus satu anggota pada set menggunakan remove().\n",
        "\n"
      ]
    },
    {
      "cell_type": "code",
      "metadata": {
        "id": "hkMaHsY4JEOk",
        "colab": {
          "base_uri": "https://localhost:8080/"
        },
        "outputId": "fcbf93b7-04ec-4d8d-d2e6-1ce23f39ee7f"
      },
      "source": [
        "#contoh\n",
        "Y = {\"apple\", \"banana\", \"cherry\"}\n",
        "Y.remove(\"apple\") #dengan menggunakan remove\n",
        "print(Y)\n"
      ],
      "execution_count": 10,
      "outputs": [
        {
          "output_type": "stream",
          "text": [
            "{'cherry', 'banana'}\n"
          ],
          "name": "stdout"
        }
      ]
    },
    {
      "cell_type": "code",
      "metadata": {
        "id": "Pk2ov03U_jik"
      },
      "source": [
        "#sekarang giliran kamu mencoba\n",
        "\n",
        "\n",
        "\n"
      ],
      "execution_count": null,
      "outputs": []
    },
    {
      "cell_type": "markdown",
      "metadata": {
        "id": "fkXAh7qbJJ6r"
      },
      "source": [
        "### Mengetahui panjang elemen\n",
        "untuk mengetahui berapa banyak elemen pada set, gunakan metode len()"
      ]
    },
    {
      "cell_type": "code",
      "metadata": {
        "id": "cfCc31xPJOXB",
        "colab": {
          "base_uri": "https://localhost:8080/"
        },
        "outputId": "107cbe21-7fd7-4d13-8661-4143f55c1156"
      },
      "source": [
        "#contoh\n",
        "buah = {\"anggur\",\"leci\", \"pisang\", \"salak\"}\n",
        "\n",
        "print(len(buah))"
      ],
      "execution_count": 11,
      "outputs": [
        {
          "output_type": "stream",
          "text": [
            "4\n"
          ],
          "name": "stdout"
        }
      ]
    },
    {
      "cell_type": "code",
      "metadata": {
        "id": "xXqvZo9F_myJ"
      },
      "source": [
        "#sekarang giliran kamu mencoba\n",
        "\n",
        "\n",
        "\n"
      ],
      "execution_count": null,
      "outputs": []
    },
    {
      "cell_type": "markdown",
      "metadata": {
        "id": "uaO8hyypJRsW"
      },
      "source": [
        "### Mengambil sebagian elemen\n",
        "Karena set bersifat unordered, maka kita tidak bisa mengambil sebagian data / elemen datanya menggunakan proses slicing.\n"
      ]
    },
    {
      "cell_type": "code",
      "metadata": {
        "id": "9mHnmLzOJSaj",
        "colab": {
          "base_uri": "https://localhost:8080/",
          "height": 209
        },
        "outputId": "dd12cd17-0f90-4c8f-daff-627af09943e9"
      },
      "source": [
        "#contoh\n",
        "\n",
        "buah = {\"anggur\",\"leci\", \"pisang\", \"duku\"}\n",
        "print(buah[2]) #hayo kenapa eror"
      ],
      "execution_count": 12,
      "outputs": [
        {
          "output_type": "error",
          "ename": "TypeError",
          "evalue": "ignored",
          "traceback": [
            "\u001b[0;31m---------------------------------------------------------------------------\u001b[0m",
            "\u001b[0;31mTypeError\u001b[0m                                 Traceback (most recent call last)",
            "\u001b[0;32m<ipython-input-12-67c79d3f2f12>\u001b[0m in \u001b[0;36m<module>\u001b[0;34m()\u001b[0m\n\u001b[1;32m      2\u001b[0m \u001b[0;34m\u001b[0m\u001b[0m\n\u001b[1;32m      3\u001b[0m \u001b[0mbuah\u001b[0m \u001b[0;34m=\u001b[0m \u001b[0;34m{\u001b[0m\u001b[0;34m\"anggur\"\u001b[0m\u001b[0;34m,\u001b[0m\u001b[0;34m\"leci\"\u001b[0m\u001b[0;34m,\u001b[0m \u001b[0;34m\"pisang\"\u001b[0m\u001b[0;34m,\u001b[0m \u001b[0;34m\"duku\"\u001b[0m\u001b[0;34m}\u001b[0m\u001b[0;34m\u001b[0m\u001b[0;34m\u001b[0m\u001b[0m\n\u001b[0;32m----> 4\u001b[0;31m \u001b[0mprint\u001b[0m\u001b[0;34m(\u001b[0m\u001b[0mbuah\u001b[0m\u001b[0;34m[\u001b[0m\u001b[0;36m2\u001b[0m\u001b[0;34m]\u001b[0m\u001b[0;34m)\u001b[0m \u001b[0;31m#hayo kenapa eror\u001b[0m\u001b[0;34m\u001b[0m\u001b[0;34m\u001b[0m\u001b[0m\n\u001b[0m",
            "\u001b[0;31mTypeError\u001b[0m: 'set' object does not support indexing"
          ]
        }
      ]
    },
    {
      "cell_type": "markdown",
      "metadata": {
        "id": "KqvwBAJJNhFP"
      },
      "source": [
        "## Metode Pada Set\n"
      ]
    },
    {
      "cell_type": "markdown",
      "metadata": {
        "id": "a3AHGS1w713k"
      },
      "source": [
        "### Intersection()\n",
        "\n",
        "Metode ini berfungsi untuk menghitung irisan dari dua buah himpunan atau lebih.\n",
        "\n"
      ]
    },
    {
      "cell_type": "code",
      "metadata": {
        "id": "azMEmkDg8FOF",
        "colab": {
          "base_uri": "https://localhost:8080/"
        },
        "outputId": "796c4d24-a081-46cb-829d-b77b742f2e3b"
      },
      "source": [
        "x = {\"matematika\", \"fisika\", \"biologi\"}\n",
        "y = {\"matematika\", \"kimia\", \"antropologi\"}\n",
        "\n",
        "z = x.intersection(y)\n",
        "\n",
        "print(z)"
      ],
      "execution_count": 13,
      "outputs": [
        {
          "output_type": "stream",
          "text": [
            "{'matematika'}\n"
          ],
          "name": "stdout"
        }
      ]
    },
    {
      "cell_type": "code",
      "metadata": {
        "id": "USUoqTZi8R0E"
      },
      "source": [
        "#sekarang giliran kamu mencoba\n",
        "\n",
        "\n"
      ],
      "execution_count": null,
      "outputs": []
    },
    {
      "cell_type": "markdown",
      "metadata": {
        "id": "Uus8Y4nhJPdV"
      },
      "source": [
        "### discard()\n",
        "Metode ini berfungsi untuk menghapus satu anggota dari set."
      ]
    },
    {
      "cell_type": "code",
      "metadata": {
        "id": "nh8EY94pJNuz",
        "colab": {
          "base_uri": "https://localhost:8080/"
        },
        "outputId": "711ab053-a186-4bd2-e65e-45e0c230987f"
      },
      "source": [
        "X= {\"apel\", \"pir\", \"mangga\", \"manggis\"}\n",
        "X.discard(\"apel\")  #dengan menggunakan discard\n",
        "print(X)"
      ],
      "execution_count": 14,
      "outputs": [
        {
          "output_type": "stream",
          "text": [
            "{'manggis', 'pir', 'mangga'}\n"
          ],
          "name": "stdout"
        }
      ]
    },
    {
      "cell_type": "code",
      "metadata": {
        "id": "woHxKBoRJa3G"
      },
      "source": [
        "#sekarang giliran kamu mencoba\n",
        "\n"
      ],
      "execution_count": null,
      "outputs": []
    },
    {
      "cell_type": "markdown",
      "metadata": {
        "id": "wzJPFNo6mQBd"
      },
      "source": [
        "### union()\n",
        "Metode ini berfungsi untuk mengembalikan satu set baru dengan semua item dari kedua set. Menggabungkan set anggota yang ada pada A dan B."
      ]
    },
    {
      "cell_type": "code",
      "metadata": {
        "id": "bv88KEc_m0e9",
        "colab": {
          "base_uri": "https://localhost:8080/"
        },
        "outputId": "d16ddd98-2ec1-4590-8bd9-2dd3207a36c1"
      },
      "source": [
        "#contoh\n",
        "buah1 = {\"Apel\", \"Pisang\", \"Mangga\"}\n",
        "buah2 = {\"Melon\", \"Semangka\", \"Jeruk\"}\n",
        "\n",
        "buah3 = buah1.union(buah2)\n",
        "print(buah3)"
      ],
      "execution_count": 17,
      "outputs": [
        {
          "output_type": "stream",
          "text": [
            "{'Semangka', 'Melon', 'Jeruk', 'Pisang', 'Apel', 'Mangga'}\n"
          ],
          "name": "stdout"
        }
      ]
    },
    {
      "cell_type": "code",
      "metadata": {
        "id": "LcrVQ6Elqjx4"
      },
      "source": [
        "#sekarang giliran kamu mencoba\n",
        "\n",
        "\n"
      ],
      "execution_count": null,
      "outputs": []
    },
    {
      "cell_type": "markdown",
      "metadata": {
        "id": "DbTQMZdwqgDi"
      },
      "source": [
        "### clear()\n",
        " Metode ini berfungsi untuk menghapus semua elemen dari set."
      ]
    },
    {
      "cell_type": "code",
      "metadata": {
        "id": "61ePccaZrKjn",
        "colab": {
          "base_uri": "https://localhost:8080/"
        },
        "outputId": "240c0a2f-0374-4247-9a9f-2887b54aba5b"
      },
      "source": [
        "#contoh\n",
        "benda = {\"Meja\", \"Kursi\", \"Lemari\"}\n",
        "\n",
        "benda.clear()\n",
        "print(benda)"
      ],
      "execution_count": 18,
      "outputs": [
        {
          "output_type": "stream",
          "text": [
            "set()\n"
          ],
          "name": "stdout"
        }
      ]
    },
    {
      "cell_type": "code",
      "metadata": {
        "id": "II7NuwBFr3Ay"
      },
      "source": [
        "#sekarang giliran kamu mencoba\n",
        "\n",
        "\n"
      ],
      "execution_count": null,
      "outputs": []
    },
    {
      "cell_type": "markdown",
      "metadata": {
        "id": "94QKmB9dr-NN"
      },
      "source": [
        "### pop()\n",
        "Metode ini berfungsi untuk menghapus elemen dari set."
      ]
    },
    {
      "cell_type": "code",
      "metadata": {
        "id": "aqyAcINAsfUf",
        "colab": {
          "base_uri": "https://localhost:8080/"
        },
        "outputId": "0c2b2e38-4089-4438-88c4-674efb4fbf78"
      },
      "source": [
        "#contoh\n",
        "bunga = {\"Mawar\", \"Melati\", \"Sakura\"}\n",
        "\n",
        "x = bunga.pop()\n",
        "\n",
        "print(x)\n",
        "print(bunga)"
      ],
      "execution_count": 22,
      "outputs": [
        {
          "output_type": "stream",
          "text": [
            "Melati\n",
            "{'Mawar', 'Sakura'}\n"
          ],
          "name": "stdout"
        }
      ]
    },
    {
      "cell_type": "code",
      "metadata": {
        "id": "b6b38iH4ABg0"
      },
      "source": [
        "#sekarang giliran kamu mencoba\n",
        "\n",
        "\n"
      ],
      "execution_count": null,
      "outputs": []
    },
    {
      "cell_type": "markdown",
      "metadata": {
        "id": "8KxEB7KVB7Ex"
      },
      "source": [
        "### difference()\n",
        "Metode ini berfungsi untuk mengembalikan satu set yang berisi selisih antara dua atau lebih set. operasi selisih adalah set himpunan yang hanya ada di A tidak ada di B."
      ]
    },
    {
      "cell_type": "code",
      "metadata": {
        "id": "9KHpjJmVCQGy",
        "colab": {
          "base_uri": "https://localhost:8080/"
        },
        "outputId": "1491ff4b-36c0-4152-ece3-a50e0ef23381"
      },
      "source": [
        "#contoh\n",
        "kata1 = {\"aku\", \"kamu\", \"mereka\",\"anda\"}\n",
        "kata2 ={\"kita\",\"aku\",\"ia\",\"kamu\"}\n",
        "kata1.difference(kata2)\n"
      ],
      "execution_count": 23,
      "outputs": [
        {
          "output_type": "execute_result",
          "data": {
            "text/plain": [
              "{'anda', 'mereka'}"
            ]
          },
          "metadata": {
            "tags": []
          },
          "execution_count": 23
        }
      ]
    },
    {
      "cell_type": "code",
      "metadata": {
        "id": "xFYqflcIDdTG"
      },
      "source": [
        "#sekarang giliran kamu mencoba\n",
        "\n",
        "\n"
      ],
      "execution_count": null,
      "outputs": []
    },
    {
      "cell_type": "markdown",
      "metadata": {
        "id": "4xy9WNjtfWHE"
      },
      "source": [
        "### difference update()\n",
        "Metode ini berfungsi untuk menghapus item dalam set ini yang juga termasuk dalam set lain yang ditentukan."
      ]
    },
    {
      "cell_type": "code",
      "metadata": {
        "id": "qrAUQTg7gCx1",
        "colab": {
          "base_uri": "https://localhost:8080/"
        },
        "outputId": "a889c741-ef09-467e-d7bc-221ee67ad3f4"
      },
      "source": [
        "x = {\"Matematika\", \"Mudah\", \"Menyenangkan\"}\n",
        "y = {\"Mudah\", \"Semangat\", \"Bisa\"}\n",
        "\n",
        "x.difference_update(y)\n",
        "\n",
        "print(x)"
      ],
      "execution_count": 24,
      "outputs": [
        {
          "output_type": "stream",
          "text": [
            "{'Menyenangkan', 'Matematika'}\n"
          ],
          "name": "stdout"
        }
      ]
    },
    {
      "cell_type": "code",
      "metadata": {
        "id": "MwID34Olgd0b"
      },
      "source": [
        "#sekarang giliran kamu mencoba\n",
        "\n",
        "\n"
      ],
      "execution_count": null,
      "outputs": []
    },
    {
      "cell_type": "markdown",
      "metadata": {
        "id": "MzgRyShEDikw"
      },
      "source": [
        "### symmetric_difference()\n",
        "symmetric_difference() atau operasi komplemen adalah set anggota yang ada di A dan B, tapi tidak di keduanya."
      ]
    },
    {
      "cell_type": "code",
      "metadata": {
        "id": "BvLA6XjsGp1U",
        "colab": {
          "base_uri": "https://localhost:8080/"
        },
        "outputId": "fdace15a-7793-4544-ca68-964afa0698a8"
      },
      "source": [
        "#contoh\n",
        "kata1 = {\"aku\", \"kamu\", \"mereka\",\"anda\"}\n",
        "kata2 ={\"kita\",\"aku\",\"ia\",\"kamu\"}\n",
        "kata1.symmetric_difference(kata2)"
      ],
      "execution_count": 25,
      "outputs": [
        {
          "output_type": "execute_result",
          "data": {
            "text/plain": [
              "{'anda', 'ia', 'kita', 'mereka'}"
            ]
          },
          "metadata": {
            "tags": []
          },
          "execution_count": 25
        }
      ]
    },
    {
      "cell_type": "code",
      "metadata": {
        "id": "6rmIwkjPHAXG"
      },
      "source": [
        "#sekarang giliran kamu mencoba\n",
        "\n",
        "\n"
      ],
      "execution_count": null,
      "outputs": []
    },
    {
      "cell_type": "markdown",
      "metadata": {
        "id": "xG3TDhjJZTpx"
      },
      "source": [
        "### issubset()\n",
        "Metode ini berfungsi untuk menampilkan apakah set lain berisi set ini atau tidak.\n",
        "\n",
        "\n",
        "  "
      ]
    },
    {
      "cell_type": "code",
      "metadata": {
        "id": "CnmnwoJCbLCh",
        "colab": {
          "base_uri": "https://localhost:8080/"
        },
        "outputId": "20757e64-f32b-47b5-c9ae-369c25f0e865"
      },
      "source": [
        "#contoh\n",
        "x = {\"a\", \"b\", \"d\"}\n",
        "y = {\"d\", \"e\", \"f\", \"c\", \"b\", \"a\"}\n",
        "\n",
        "z = x.issubset(y) \n",
        "print(z)"
      ],
      "execution_count": 26,
      "outputs": [
        {
          "output_type": "stream",
          "text": [
            "True\n"
          ],
          "name": "stdout"
        }
      ]
    },
    {
      "cell_type": "code",
      "metadata": {
        "id": "7cY99yP5bgJH"
      },
      "source": [
        "#sekarang giliran kamu mencoba\n",
        "\n",
        "\n"
      ],
      "execution_count": null,
      "outputs": []
    },
    {
      "cell_type": "markdown",
      "metadata": {
        "id": "e_FLD4gMghw2"
      },
      "source": [
        "### issuperset()\n",
        "\n",
        "Metode ini berfungsi untuk menampilkan apakah set ini berisi set lain atau tidak"
      ]
    },
    {
      "cell_type": "code",
      "metadata": {
        "id": "OcRklf57gz0_",
        "colab": {
          "base_uri": "https://localhost:8080/",
          "height": 34
        },
        "outputId": "917fc9ac-e4d9-4f10-c0ad-896c48f5112c"
      },
      "source": [
        "#contoh\n",
        "x = {\"d\", \"e\", \"f\", \"c\", \"b\", \"a\"}\n",
        "y = {\"a\", \"b\", \"c\"}\n",
        "\n",
        "z = x.issuperset(y) \n",
        "\n",
        "print(z)\n"
      ],
      "execution_count": null,
      "outputs": [
        {
          "output_type": "stream",
          "text": [
            "True\n"
          ],
          "name": "stdout"
        }
      ]
    },
    {
      "cell_type": "code",
      "metadata": {
        "id": "M06DUuXbhFcU"
      },
      "source": [
        "#sekarang giliran kamu mencoba\n",
        "\n",
        "\n",
        "\n"
      ],
      "execution_count": null,
      "outputs": []
    }
  ]
}